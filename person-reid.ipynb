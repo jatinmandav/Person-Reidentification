{
 "cells": [
  {
   "cell_type": "code",
   "execution_count": 132,
   "metadata": {},
   "outputs": [],
   "source": [
    "import os\n",
    "import cv2\n",
    "import numpy as np\n",
    "import matplotlib.pyplot as plt\n",
    "from collections import Counter\n",
    "\n",
    "from tqdm import tqdm\n",
    "\n",
    "import tensorflow as tf"
   ]
  },
  {
   "cell_type": "code",
   "execution_count": 2,
   "metadata": {},
   "outputs": [],
   "source": [
    "def read_image(path, color_format='rgb'):\n",
    "    image = cv2.imread(path)\n",
    "    if color_format.lower() == 'rgb':\n",
    "        image = cv2.cvtColor(image, cv2.COLOR_BGR2RGB)\n",
    "        \n",
    "    image = image.astype(np.float32)/255.\n",
    "    \n",
    "    return image"
   ]
  },
  {
   "cell_type": "code",
   "execution_count": 135,
   "metadata": {},
   "outputs": [],
   "source": [
    "class DataLoader:\n",
    "    def __init__(self, dir_path='dataset/Market-1501-v15.09.15/gt_bbox',\n",
    "                 image_reader=None, batch_size=16):\n",
    "        self.dir_path = dir_path\n",
    "        self.image_reader = image_reader\n",
    "        self.batch_size = batch_size\n",
    "        \n",
    "        self._load()\n",
    "        \n",
    "    def _get_image(self, path):\n",
    "        return self.image_reader(path)\n",
    "    \n",
    "    def _load(self):\n",
    "        paths = os.listdir(self.dir_path)\n",
    "        self.path_ids = {}\n",
    "        for path in paths:\n",
    "            if path != 'Thumbs.db':\n",
    "                id_ = int(path.split('_')[0])\n",
    "                if id_ in self.path_ids.keys():\n",
    "                    self.path_ids[id_].append(os.path.join(self.dir_path, path))\n",
    "                else:\n",
    "                    self.path_ids[id_] = [os.path.join(self.dir_path, path)]\n",
    "                \n",
    "    def generator(self):\n",
    "        while True:\n",
    "            top_x1 = []\n",
    "            middle_x1 = []\n",
    "            bottom_x1 = []\n",
    "            \n",
    "            top_x2 = []\n",
    "            middle_x2 = []\n",
    "            bottom_x2 = []\n",
    "            \n",
    "            batch_x1 = []\n",
    "            batch_x2 = []\n",
    "            batch_y = []\n",
    "            \n",
    "            for _ in range(self.batch_size):\n",
    "                if np.random.choice([0, 1]):\n",
    "                    id_ = np.random.choice(np.arange(1, 1501+1))\n",
    "                    image = self._get_image(np.random.choice(self.path_ids[id_]))\n",
    "                    h = int(image.shape[0]/3)\n",
    "                    top_x1.append(image[0:h,])\n",
    "                    middle_x1.append(image[h:h*2,])\n",
    "                    bottom_x1.append(image[h*2:,])\n",
    "                    \n",
    "                    image = self._get_image(np.random.choice(self.path_ids[id_]))\n",
    "                    h = int(image.shape[0]/3)\n",
    "                    top_x2.append(image[0:h,])\n",
    "                    middle_x2.append(image[h:h*2,])\n",
    "                    bottom_x2.append(image[h*2:,])\n",
    "                    \n",
    "                    batch_y.append([1])\n",
    "                else:\n",
    "                    id_ = np.random.choice(np.arange(1, 1501+1))\n",
    "                    image = self._get_image(np.random.choice(self.path_ids[id_]))\n",
    "                    h = int(image.shape[0]/3)\n",
    "                    top_x1.append(image[0:h,])\n",
    "                    middle_x1.append(image[h:h*2,])\n",
    "                    bottom_x1.append(image[h*2:,])\n",
    "                    \n",
    "                    id_ = np.random.choice(np.arange(1, 1501+1))\n",
    "                    image = self._get_image(np.random.choice(self.path_ids[id_]))\n",
    "                    h = int(image.shape[0]/3)\n",
    "                    top_x2.append(image[0:h,])\n",
    "                    middle_x2.append(image[h:h*2,])\n",
    "                    bottom_x2.append(image[h*2:,])\n",
    "                    \n",
    "                    batch_y.append([0])\n",
    "                   \n",
    "            top_x1 = np.array(top_x1)\n",
    "            middle_x1 = np.array(middle_x1)\n",
    "            bottom_x1 = np.array(bottom_x1)\n",
    "            \n",
    "            top_x2 = np.array(top_x2)\n",
    "            middle_x2 = np.array(middle_x2)\n",
    "            bottom_x2 = np.array(bottom_x2)\n",
    "            \n",
    "            yield [top_x1, middle_x1, bottom_x1], [top_x2, middle_x2, bottom_x2], np.array(batch_y)"
   ]
  },
  {
   "cell_type": "code",
   "execution_count": 136,
   "metadata": {},
   "outputs": [],
   "source": [
    "def visualize(x1, x2, y, index=0):\n",
    "    fig, ax = plt.subplots(3, 2)\n",
    "    ax[0, 0].imshow(x1[0][index])\n",
    "    ax[1, 0].imshow(x1[1][index])\n",
    "    ax[2, 0].imshow(x1[2][index])\n",
    "    \n",
    "    ax[0, 1].imshow(x2[0][index])\n",
    "    ax[1, 1].imshow(x2[1][index])\n",
    "    ax[2, 1].imshow(x2[2][index])\n",
    "    \n",
    "    if int(y[index]) == 0:\n",
    "        ax[0, 1].set_title('Different')\n",
    "    else:\n",
    "        ax[0, 1].set_title('Same')\n",
    "        \n",
    "    plt.show()"
   ]
  },
  {
   "cell_type": "code",
   "execution_count": 150,
   "metadata": {},
   "outputs": [],
   "source": [
    "data_loader = DataLoader(dir_path='dataset/Market-1501-v15.09.15/gt_bbox',\n",
    "                         image_reader=read_image,\n",
    "                         batch_size=5)\n",
    "gen = data_loader.generator()"
   ]
  },
  {
   "cell_type": "code",
   "execution_count": 151,
   "metadata": {},
   "outputs": [
    {
     "data": {
      "image/png": "[encoded data removed]",
      "text/plain": [
       "<Figure size 432x288 with 6 Axes>"
      ]
     },
     "metadata": {
      "needs_background": "light"
     },
     "output_type": "display_data"
    }
   ],
   "source": [
    "x1, x2, y = next(gen)\n",
    "visualize(x1, x2, y, index=0)"
   ]
  },
  {
   "cell_type": "code",
   "execution_count": 142,
   "metadata": {},
   "outputs": [],
   "source": [
    "def conv_block(input_tensor, filters, max_pool=True, name='ConvBlock'):\n",
    "    with tf.variable_scope(name):\n",
    "        net = tf.keras.layers.Conv2D(filters, (3, 3), \n",
    "                                     kernel_initializer='glorot_uniform', \n",
    "                                     padding='same')(input_tensor)\n",
    "        net = tf.keras.layers.LeakyReLU()(net)\n",
    "        \n",
    "        if max_pool:\n",
    "            net = tf.keras.layers.MaxPooling2D((2, 2))(net)\n",
    "        \n",
    "    return net"
   ]
  },
  {
   "cell_type": "code",
   "execution_count": 143,
   "metadata": {},
   "outputs": [],
   "source": [
    "def feature_extractor(input_tensor1, input_tensor2, name='Feature_Extractor'):\n",
    "    with tf.variable_scope(name):\n",
    "        with tf.variable_scope('Branch-1'):\n",
    "            net1 = conv_block(input_tensor1, filters=16, name='ConvBlock_1')\n",
    "            net1 = conv_block(net1, filters=16, name='ConvBlock_2')\n",
    "\n",
    "        with tf.variable_scope('Branch-2'):\n",
    "            net2 = conv_block(input_tensor2, filters=16, name='ConvBlock_1')\n",
    "            net2 = conv_block(net2, filters=16, name='ConvBlock_2')\n",
    "\n",
    "        diff = net1 - net2\n",
    "\n",
    "        net = conv_block(diff, filters=8, max_pool=False)\n",
    "        net = conv_block(net, filters=1, max_pool=False)\n",
    "\n",
    "        net = tf.keras.layers.Flatten()(net)\n",
    "        net = tf.keras.layers.Dense(128)(net)\n",
    "        net = tf.keras.layers.LeakyReLU()(net)\n",
    "        \n",
    "    return net"
   ]
  },
  {
   "cell_type": "code",
   "execution_count": 144,
   "metadata": {},
   "outputs": [],
   "source": [
    "def network(image1, image2):\n",
    "    top_features = feature_extractor(image1[0], image2[0], name='Top_Feature_Extractor')\n",
    "    middle_features = feature_extractor(image1[1], image2[1], name='Middle_Feature_Extractor')\n",
    "    bottom_features = feature_extractor(image1[2], image2[2], name='Bottom_Feature_Extractor')\n",
    "    \n",
    "    fused = tf.add(tf.add(top_features, middle_features), bottom_features)\n",
    "    net = tf.keras.layers.Dense(128)(fused)\n",
    "    net = tf.keras.layers.LeakyReLU()(net)\n",
    "    net = tf.keras.layers.Dense(1)(net)\n",
    "    net = tf.math.sigmoid(net)\n",
    "    \n",
    "    return net"
   ]
  },
  {
   "cell_type": "code",
   "execution_count": 145,
   "metadata": {},
   "outputs": [],
   "source": [
    "def binary_accuracy(y_true, y_pred):\n",
    "    with tf.variable_scope('Accuracy'):\n",
    "        return tf.keras.backend.mean(tf.keras.backend.equal(y_true, \n",
    "                                                            tf.keras.backend.round(y_pred)))"
   ]
  },
  {
   "cell_type": "code",
   "execution_count": 153,
   "metadata": {},
   "outputs": [],
   "source": [
    "epochs = 40\n",
    "steps = 5\n",
    "batch_size = 5"
   ]
  },
  {
   "cell_type": "code",
   "execution_count": 154,
   "metadata": {},
   "outputs": [],
   "source": [
    "data_loader = DataLoader(dir_path='dataset/Market-1501-v15.09.15/gt_bbox',\n",
    "                         image_reader=read_image,\n",
    "                         batch_size=batch_size)\n",
    "gen = data_loader.generator()"
   ]
  },
  {
   "cell_type": "code",
   "execution_count": 157,
   "metadata": {
    "scrolled": true
   },
   "outputs": [
    {
     "name": "stderr",
     "output_type": "stream",
     "text": [
      "\r",
      "  0%|          | 0/5 [00:00<?, ?it/s]"
     ]
    },
    {
     "name": "stdout",
     "output_type": "stream",
     "text": [
      "Epoch 1 of 40\n"
     ]
    },
    {
     "name": "stderr",
     "output_type": "stream",
     "text": [
      "100%|██████████| 5/5 [00:00<00:00,  5.81it/s]\n",
      " 40%|████      | 2/5 [00:00<00:00, 15.76it/s]"
     ]
    },
    {
     "name": "stdout",
     "output_type": "stream",
     "text": [
      "Loss: 0.70666, Accuracy: 0.48000\n",
      "Epoch 2 of 40\n"
     ]
    },
    {
     "name": "stderr",
     "output_type": "stream",
     "text": [
      "100%|██████████| 5/5 [00:00<00:00, 15.83it/s]\n",
      " 40%|████      | 2/5 [00:00<00:00, 16.95it/s]"
     ]
    },
    {
     "name": "stdout",
     "output_type": "stream",
     "text": [
      "Loss: 0.69228, Accuracy: 0.52000\n",
      "Epoch 3 of 40\n"
     ]
    },
    {
     "name": "stderr",
     "output_type": "stream",
     "text": [
      "100%|██████████| 5/5 [00:00<00:00, 16.56it/s]\n",
      " 40%|████      | 2/5 [00:00<00:00, 15.44it/s]"
     ]
    },
    {
     "name": "stdout",
     "output_type": "stream",
     "text": [
      "Loss: 0.71186, Accuracy: 0.44000\n",
      "Epoch 4 of 40\n"
     ]
    },
    {
     "name": "stderr",
     "output_type": "stream",
     "text": [
      "100%|██████████| 5/5 [00:00<00:00, 15.26it/s]\n",
      " 40%|████      | 2/5 [00:00<00:00, 15.52it/s]"
     ]
    },
    {
     "name": "stdout",
     "output_type": "stream",
     "text": [
      "Loss: 0.69627, Accuracy: 0.52000\n",
      "Epoch 5 of 40\n"
     ]
    },
    {
     "name": "stderr",
     "output_type": "stream",
     "text": [
      "100%|██████████| 5/5 [00:00<00:00, 15.69it/s]\n",
      " 40%|████      | 2/5 [00:00<00:00, 17.56it/s]"
     ]
    },
    {
     "name": "stdout",
     "output_type": "stream",
     "text": [
      "Loss: 0.71504, Accuracy: 0.56000\n",
      "Epoch 6 of 40\n"
     ]
    },
    {
     "name": "stderr",
     "output_type": "stream",
     "text": [
      "100%|██████████| 5/5 [00:00<00:00, 16.36it/s]\n",
      " 40%|████      | 2/5 [00:00<00:00, 16.05it/s]"
     ]
    },
    {
     "name": "stdout",
     "output_type": "stream",
     "text": [
      "Loss: 0.69256, Accuracy: 0.56000\n",
      "Epoch 7 of 40\n"
     ]
    },
    {
     "name": "stderr",
     "output_type": "stream",
     "text": [
      "100%|██████████| 5/5 [00:00<00:00, 15.91it/s]\n",
      " 40%|████      | 2/5 [00:00<00:00, 16.02it/s]"
     ]
    },
    {
     "name": "stdout",
     "output_type": "stream",
     "text": [
      "Loss: 0.70096, Accuracy: 0.48000\n",
      "Epoch 8 of 40\n"
     ]
    },
    {
     "name": "stderr",
     "output_type": "stream",
     "text": [
      "100%|██████████| 5/5 [00:00<00:00, 15.82it/s]\n",
      " 40%|████      | 2/5 [00:00<00:00, 16.41it/s]"
     ]
    },
    {
     "name": "stdout",
     "output_type": "stream",
     "text": [
      "Loss: 0.67212, Accuracy: 0.64000\n",
      "Epoch 9 of 40\n"
     ]
    },
    {
     "name": "stderr",
     "output_type": "stream",
     "text": [
      "100%|██████████| 5/5 [00:00<00:00, 16.49it/s]\n",
      " 40%|████      | 2/5 [00:00<00:00, 15.42it/s]"
     ]
    },
    {
     "name": "stdout",
     "output_type": "stream",
     "text": [
      "Loss: 0.73911, Accuracy: 0.32000\n",
      "Epoch 10 of 40\n"
     ]
    },
    {
     "name": "stderr",
     "output_type": "stream",
     "text": [
      "100%|██████████| 5/5 [00:00<00:00, 16.92it/s]\n",
      " 40%|████      | 2/5 [00:00<00:00, 13.26it/s]"
     ]
    },
    {
     "name": "stdout",
     "output_type": "stream",
     "text": [
      "Loss: 0.73137, Accuracy: 0.32000\n",
      "Epoch 11 of 40\n"
     ]
    },
    {
     "name": "stderr",
     "output_type": "stream",
     "text": [
      "100%|██████████| 5/5 [00:00<00:00, 14.32it/s]\n",
      " 40%|████      | 2/5 [00:00<00:00, 15.35it/s]"
     ]
    },
    {
     "name": "stdout",
     "output_type": "stream",
     "text": [
      "Loss: 0.69431, Accuracy: 0.64000\n",
      "Epoch 12 of 40\n"
     ]
    },
    {
     "name": "stderr",
     "output_type": "stream",
     "text": [
      "100%|██████████| 5/5 [00:00<00:00, 14.99it/s]\n",
      " 40%|████      | 2/5 [00:00<00:00, 15.55it/s]"
     ]
    },
    {
     "name": "stdout",
     "output_type": "stream",
     "text": [
      "Loss: 0.68534, Accuracy: 0.60000\n",
      "Epoch 13 of 40\n"
     ]
    },
    {
     "name": "stderr",
     "output_type": "stream",
     "text": [
      "100%|██████████| 5/5 [00:00<00:00, 15.83it/s]\n",
      " 40%|████      | 2/5 [00:00<00:00, 15.60it/s]"
     ]
    },
    {
     "name": "stdout",
     "output_type": "stream",
     "text": [
      "Loss: 0.70201, Accuracy: 0.48000\n",
      "Epoch 14 of 40\n"
     ]
    },
    {
     "name": "stderr",
     "output_type": "stream",
     "text": [
      "100%|██████████| 5/5 [00:00<00:00, 14.90it/s]\n",
      " 40%|████      | 2/5 [00:00<00:00, 13.87it/s]"
     ]
    },
    {
     "name": "stdout",
     "output_type": "stream",
     "text": [
      "Loss: 0.67946, Accuracy: 0.56000\n",
      "Epoch 15 of 40\n"
     ]
    },
    {
     "name": "stderr",
     "output_type": "stream",
     "text": [
      "100%|██████████| 5/5 [00:00<00:00, 14.80it/s]\n",
      " 40%|████      | 2/5 [00:00<00:00, 16.37it/s]"
     ]
    },
    {
     "name": "stdout",
     "output_type": "stream",
     "text": [
      "Loss: 0.71229, Accuracy: 0.36000\n",
      "Epoch 16 of 40\n"
     ]
    },
    {
     "name": "stderr",
     "output_type": "stream",
     "text": [
      "100%|██████████| 5/5 [00:00<00:00, 16.01it/s]\n",
      " 40%|████      | 2/5 [00:00<00:00, 16.10it/s]"
     ]
    },
    {
     "name": "stdout",
     "output_type": "stream",
     "text": [
      "Loss: 0.70728, Accuracy: 0.32000\n",
      "Epoch 17 of 40\n"
     ]
    },
    {
     "name": "stderr",
     "output_type": "stream",
     "text": [
      "100%|██████████| 5/5 [00:00<00:00, 16.50it/s]\n",
      " 40%|████      | 2/5 [00:00<00:00, 16.49it/s]"
     ]
    },
    {
     "name": "stdout",
     "output_type": "stream",
     "text": [
      "Loss: 0.68532, Accuracy: 0.60000\n",
      "Epoch 18 of 40\n"
     ]
    },
    {
     "name": "stderr",
     "output_type": "stream",
     "text": [
      "100%|██████████| 5/5 [00:00<00:00, 16.05it/s]\n",
      " 40%|████      | 2/5 [00:00<00:00, 16.18it/s]"
     ]
    },
    {
     "name": "stdout",
     "output_type": "stream",
     "text": [
      "Loss: 0.69328, Accuracy: 0.56000\n",
      "Epoch 19 of 40\n"
     ]
    },
    {
     "name": "stderr",
     "output_type": "stream",
     "text": [
      "100%|██████████| 5/5 [00:00<00:00, 15.97it/s]\n",
      " 40%|████      | 2/5 [00:00<00:00, 15.79it/s]"
     ]
    },
    {
     "name": "stdout",
     "output_type": "stream",
     "text": [
      "Loss: 0.69493, Accuracy: 0.56000\n",
      "Epoch 20 of 40\n"
     ]
    },
    {
     "name": "stderr",
     "output_type": "stream",
     "text": [
      "100%|██████████| 5/5 [00:00<00:00, 17.26it/s]\n",
      " 40%|████      | 2/5 [00:00<00:00, 15.76it/s]"
     ]
    },
    {
     "name": "stdout",
     "output_type": "stream",
     "text": [
      "Loss: 0.69450, Accuracy: 0.52000\n",
      "Epoch 21 of 40\n"
     ]
    },
    {
     "name": "stderr",
     "output_type": "stream",
     "text": [
      "100%|██████████| 5/5 [00:00<00:00, 16.25it/s]\n",
      " 40%|████      | 2/5 [00:00<00:00, 15.84it/s]"
     ]
    },
    {
     "name": "stdout",
     "output_type": "stream",
     "text": [
      "Loss: 0.70165, Accuracy: 0.48000\n",
      "Epoch 22 of 40\n"
     ]
    },
    {
     "name": "stderr",
     "output_type": "stream",
     "text": [
      "100%|██████████| 5/5 [00:00<00:00, 15.26it/s]\n",
      " 40%|████      | 2/5 [00:00<00:00, 15.00it/s]"
     ]
    },
    {
     "name": "stdout",
     "output_type": "stream",
     "text": [
      "Loss: 0.70004, Accuracy: 0.52000\n",
      "Epoch 23 of 40\n"
     ]
    },
    {
     "name": "stderr",
     "output_type": "stream",
     "text": [
      "100%|██████████| 5/5 [00:00<00:00, 15.22it/s]\n",
      " 40%|████      | 2/5 [00:00<00:00, 15.53it/s]"
     ]
    },
    {
     "name": "stdout",
     "output_type": "stream",
     "text": [
      "Loss: 0.67874, Accuracy: 0.60000\n",
      "Epoch 24 of 40\n"
     ]
    },
    {
     "name": "stderr",
     "output_type": "stream",
     "text": [
      "100%|██████████| 5/5 [00:00<00:00, 15.69it/s]\n",
      " 40%|████      | 2/5 [00:00<00:00, 15.67it/s]"
     ]
    },
    {
     "name": "stdout",
     "output_type": "stream",
     "text": [
      "Loss: 0.69472, Accuracy: 0.44000\n",
      "Epoch 25 of 40\n"
     ]
    },
    {
     "name": "stderr",
     "output_type": "stream",
     "text": [
      "100%|██████████| 5/5 [00:00<00:00, 15.86it/s]\n",
      " 40%|████      | 2/5 [00:00<00:00, 16.32it/s]"
     ]
    },
    {
     "name": "stdout",
     "output_type": "stream",
     "text": [
      "Loss: 0.70820, Accuracy: 0.40000\n",
      "Epoch 26 of 40\n"
     ]
    },
    {
     "name": "stderr",
     "output_type": "stream",
     "text": [
      "100%|██████████| 5/5 [00:00<00:00, 15.69it/s]\n",
      " 40%|████      | 2/5 [00:00<00:00, 15.41it/s]"
     ]
    },
    {
     "name": "stdout",
     "output_type": "stream",
     "text": [
      "Loss: 0.68424, Accuracy: 0.72000\n",
      "Epoch 27 of 40\n"
     ]
    },
    {
     "name": "stderr",
     "output_type": "stream",
     "text": [
      "100%|██████████| 5/5 [00:00<00:00, 15.48it/s]\n",
      " 40%|████      | 2/5 [00:00<00:00, 15.73it/s]"
     ]
    },
    {
     "name": "stdout",
     "output_type": "stream",
     "text": [
      "Loss: 0.72501, Accuracy: 0.60000\n",
      "Epoch 28 of 40\n"
     ]
    },
    {
     "name": "stderr",
     "output_type": "stream",
     "text": [
      "100%|██████████| 5/5 [00:00<00:00, 15.22it/s]\n",
      " 40%|████      | 2/5 [00:00<00:00, 14.93it/s]"
     ]
    },
    {
     "name": "stdout",
     "output_type": "stream",
     "text": [
      "Loss: 0.68016, Accuracy: 0.60000\n",
      "Epoch 29 of 40\n"
     ]
    },
    {
     "name": "stderr",
     "output_type": "stream",
     "text": [
      "100%|██████████| 5/5 [00:00<00:00, 15.36it/s]\n",
      " 40%|████      | 2/5 [00:00<00:00, 15.51it/s]"
     ]
    },
    {
     "name": "stdout",
     "output_type": "stream",
     "text": [
      "Loss: 0.70563, Accuracy: 0.52000\n",
      "Epoch 30 of 40\n"
     ]
    },
    {
     "name": "stderr",
     "output_type": "stream",
     "text": [
      "100%|██████████| 5/5 [00:00<00:00, 17.06it/s]\n",
      " 40%|████      | 2/5 [00:00<00:00, 16.06it/s]"
     ]
    },
    {
     "name": "stdout",
     "output_type": "stream",
     "text": [
      "Loss: 0.70612, Accuracy: 0.48000\n",
      "Epoch 31 of 40\n"
     ]
    },
    {
     "name": "stderr",
     "output_type": "stream",
     "text": [
      "100%|██████████| 5/5 [00:00<00:00, 15.30it/s]\n",
      " 40%|████      | 2/5 [00:00<00:00, 16.34it/s]"
     ]
    },
    {
     "name": "stdout",
     "output_type": "stream",
     "text": [
      "Loss: 0.69550, Accuracy: 0.44000\n",
      "Epoch 32 of 40\n"
     ]
    },
    {
     "name": "stderr",
     "output_type": "stream",
     "text": [
      "100%|██████████| 5/5 [00:00<00:00, 16.40it/s]\n",
      " 40%|████      | 2/5 [00:00<00:00, 14.70it/s]"
     ]
    },
    {
     "name": "stdout",
     "output_type": "stream",
     "text": [
      "Loss: 0.66302, Accuracy: 0.60000\n",
      "Epoch 33 of 40\n"
     ]
    },
    {
     "name": "stderr",
     "output_type": "stream",
     "text": [
      "100%|██████████| 5/5 [00:00<00:00, 15.37it/s]\n",
      " 40%|████      | 2/5 [00:00<00:00, 15.08it/s]"
     ]
    },
    {
     "name": "stdout",
     "output_type": "stream",
     "text": [
      "Loss: 0.74449, Accuracy: 0.48000\n",
      "Epoch 34 of 40\n"
     ]
    },
    {
     "name": "stderr",
     "output_type": "stream",
     "text": [
      "100%|██████████| 5/5 [00:00<00:00, 15.18it/s]\n",
      " 40%|████      | 2/5 [00:00<00:00, 15.01it/s]"
     ]
    },
    {
     "name": "stdout",
     "output_type": "stream",
     "text": [
      "Loss: 0.69605, Accuracy: 0.52000\n",
      "Epoch 35 of 40\n"
     ]
    },
    {
     "name": "stderr",
     "output_type": "stream",
     "text": [
      "100%|██████████| 5/5 [00:00<00:00, 16.21it/s]\n",
      " 40%|████      | 2/5 [00:00<00:00, 17.02it/s]"
     ]
    },
    {
     "name": "stdout",
     "output_type": "stream",
     "text": [
      "Loss: 0.68644, Accuracy: 0.56000\n",
      "Epoch 36 of 40\n"
     ]
    },
    {
     "name": "stderr",
     "output_type": "stream",
     "text": [
      "100%|██████████| 5/5 [00:00<00:00, 16.85it/s]\n",
      " 40%|████      | 2/5 [00:00<00:00, 16.54it/s]"
     ]
    },
    {
     "name": "stdout",
     "output_type": "stream",
     "text": [
      "Loss: 0.72847, Accuracy: 0.36000\n",
      "Epoch 37 of 40\n"
     ]
    },
    {
     "name": "stderr",
     "output_type": "stream",
     "text": [
      "100%|██████████| 5/5 [00:00<00:00, 16.16it/s]\n",
      " 40%|████      | 2/5 [00:00<00:00, 16.37it/s]"
     ]
    },
    {
     "name": "stdout",
     "output_type": "stream",
     "text": [
      "Loss: 0.70326, Accuracy: 0.48000\n",
      "Epoch 38 of 40\n"
     ]
    },
    {
     "name": "stderr",
     "output_type": "stream",
     "text": [
      "100%|██████████| 5/5 [00:00<00:00, 16.32it/s]\n",
      " 40%|████      | 2/5 [00:00<00:00, 15.56it/s]"
     ]
    },
    {
     "name": "stdout",
     "output_type": "stream",
     "text": [
      "Loss: 0.69718, Accuracy: 0.40000\n",
      "Epoch 39 of 40\n"
     ]
    },
    {
     "name": "stderr",
     "output_type": "stream",
     "text": [
      "100%|██████████| 5/5 [00:00<00:00, 15.11it/s]\n",
      " 40%|████      | 2/5 [00:00<00:00, 14.94it/s]"
     ]
    },
    {
     "name": "stdout",
     "output_type": "stream",
     "text": [
      "Loss: 0.69783, Accuracy: 0.44000\n",
      "Epoch 40 of 40\n"
     ]
    },
    {
     "name": "stderr",
     "output_type": "stream",
     "text": [
      "100%|██████████| 5/5 [00:00<00:00, 16.35it/s]"
     ]
    },
    {
     "name": "stdout",
     "output_type": "stream",
     "text": [
      "Loss: 0.67262, Accuracy: 0.68000\n"
     ]
    },
    {
     "name": "stderr",
     "output_type": "stream",
     "text": [
      "\n"
     ]
    }
   ],
   "source": [
    "graph = tf.Graph()\n",
    "with tf.Session(graph=graph) as sess:\n",
    "    h = int(128/3)\n",
    "    top1 = tf.placeholder(tf.float32, [None, h, 64, 3])\n",
    "    middle1 = tf.placeholder(tf.float32, [None, h, 64, 3])\n",
    "    bottom1 = tf.placeholder(tf.float32, [None, 128-2*h, 64, 3])\n",
    "    \n",
    "    top2 = tf.placeholder(tf.float32, [None, h, 64, 3])\n",
    "    middle2 = tf.placeholder(tf.float32, [None, h, 64, 3])\n",
    "    bottom2 = tf.placeholder(tf.float32, [None, 128-2*h, 64, 3])\n",
    "    \n",
    "    y_tensor = tf.placeholder(tf.float32, [None, 1])\n",
    "    \n",
    "    output = network([top1, middle1, bottom1], [top2, middle2, bottom2])\n",
    "    \n",
    "    with tf.variable_scope('Loss'):\n",
    "        loss = tf.reduce_mean(tf.keras.losses.binary_crossentropy(y_true=y_tensor, y_pred=output))\n",
    "        loss_summary = tf.summary.scalar('Loss', loss)\n",
    "        \n",
    "    accuracy = binary_accuracy(y_true=y_tensor, y_pred=output)\n",
    "    acc_summary = tf.summary.scalar('Accuracy', accuracy)\n",
    "    \n",
    "    optimizer = tf.train.AdamOptimizer(learning_rate=0.001)\n",
    "    grads = optimizer.compute_gradients(loss=loss)\n",
    "    grad_summary = []\n",
    "    for grad_var_pair in grads:\n",
    "        curr_grad = grad_var_pair[0]\n",
    "        curr_var = grad_var_pair[1]\n",
    "        if curr_grad is not None:\n",
    "            name = curr_var.name.replace(':', \"_\")\n",
    "            grad_summary.append(tf.summary.histogram(name, curr_grad))\n",
    "    grad_summary_op = tf.summary.merge(grad_summary)\n",
    "    train_op = optimizer.apply_gradients(grads_and_vars=grads)\n",
    "    \n",
    "    sess.run(tf.global_variables_initializer())\n",
    "    \n",
    "    summary_writer = tf.summary.FileWriter('logs', graph)\n",
    "    \n",
    "    counter = 0\n",
    "    \n",
    "    for epoch in range(epochs):\n",
    "        batch_loss = []\n",
    "        batch_acc = []\n",
    "        print(\"Epoch {} of {}\".format(epoch+1, epochs))\n",
    "        for _ in tqdm(range(steps)):\n",
    "            image1, image2, y = next(gen)\n",
    "            loss_val, acc_val, _ = sess.run([loss, accuracy, train_op], \n",
    "                                             feed_dict={top1: image1[0], middle1: image1[1], bottom1: image1[2],\n",
    "                                                        top2: image2[0], middle2: image2[1], bottom2: image2[2],\n",
    "                                                        y_tensor: y})\n",
    "            batch_loss.append(loss_val)\n",
    "            batch_acc.append(acc_val)\n",
    "            counter += 1\n",
    "            if counter%50:\n",
    "                l_summ, a_summ, grads = sess.run([loss_summary, acc_summary, grad_summary_op], \n",
    "                                                 feed_dict={top1: image1[0], middle1: image1[1], bottom1: image1[2],\n",
    "                                                            top2: image2[0], middle2: image2[1], bottom2: image2[2],\n",
    "                                                            y_tensor: y})\n",
    "                summary_writer.add_summary(l_summ, counter)\n",
    "                summary_writer.add_summary(a_summ, counter)\n",
    "                summary_writer.add_summary(grads, counter)\n",
    "            \n",
    "        print('Loss: {:.05f}, Accuracy: {:.05f}'.format(np.mean(batch_loss), np.mean(batch_acc)))\n",
    "    \n",
    "    \n",
    "summary_writer.close()"
   ]
  },
  {
   "cell_type": "code",
   "execution_count": null,
   "metadata": {},
   "outputs": [],
   "source": []
  }
 ],
 "metadata": {
  "kernelspec": {
   "display_name": "Python 3",
   "language": "python",
   "name": "python3"
  },
  "language_info": {
   "codemirror_mode": {
    "name": "ipython",
    "version": 3
   },
   "file_extension": ".py",
   "mimetype": "text/x-python",
   "name": "python",
   "nbconvert_exporter": "python",
   "pygments_lexer": "ipython3",
   "version": "3.7.5"
  }
 },
 "nbformat": 4,
 "nbformat_minor": 2
}
